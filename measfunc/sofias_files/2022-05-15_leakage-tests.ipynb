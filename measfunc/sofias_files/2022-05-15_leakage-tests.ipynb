{
 "cells": [
  {
   "cell_type": "code",
   "execution_count": 1,
   "metadata": {},
   "outputs": [],
   "source": [
    "batch = 'Metaltail'\n",
    "die = '21'\n",
    "subdie = '14'\n",
    "qubit_box = 'QBB46_2_6'\n",
    "sample_name = 'IMEC-'+batch+'_Die'+die+'_Subdie'+subdie+'_'+qubit_box"
   ]
  },
  {
   "cell_type": "markdown",
   "metadata": {},
   "source": [
    "# Software imports"
   ]
  },
  {
   "cell_type": "code",
   "execution_count": 3,
   "metadata": {},
   "outputs": [],
   "source": [
    "import copy \n",
    "from functools import partial \n",
    "import importlib \n",
    "from math import floor\n",
    "import os\n",
    "import sys\n",
    "import time\n",
    "import numpy as np\n",
    "import matplotlib.pyplot as plt\n",
    "import matplotlib.cm as cmx\n",
    "import scipy\n",
    "from scipy import signal\n",
    "\n",
    "import json\n",
    "\n",
    "import qcodes as qc\n",
    "\n",
    "from qcodes.utils.dataset.doNd import do1d, do2d, do0d\n",
    "from qcodes.logger.logger import start_all_logging\n",
    "\n",
    "import qcodes.dataset.experiment_container as exc\n",
    "from qcodes.dataset.plotting import plot_by_id, plot_dataset\n",
    "from qcodes import initialise_database, Measurement, load_by_id, \\\n",
    "    initialise_or_create_database_at, load_or_create_experiment\n",
    "from qcodes import Parameter\n",
    "from qcodes.utils.validators import Numbers\n",
    "\n",
    "from qcodes.instrument_drivers.QDevil.QDevil_QDAC import Mode, ChannelList\n",
    "from qcodes_contrib_drivers.drivers.QDevil import QDAC2"
   ]
  },
  {
   "cell_type": "markdown",
   "metadata": {},
   "source": [
    "# Database and STATION setup"
   ]
  },
  {
   "cell_type": "code",
   "execution_count": 4,
   "metadata": {},
   "outputs": [],
   "source": [
    "sofias_path = os.path.join('F:\\\\', 'qcodes_local', 'Sofia')\n",
    "\n",
    "data_path = os.path.join('F:\\\\', 'qcodes_local', 'Sofia', 'IMEC', 'Metaltail', \n",
    "    '10.4. JellyBean-coupled double-DQD with SETs', 'Die21_Subdie14_QBB46_2_6', 'Week 10')"
   ]
  },
  {
   "cell_type": "code",
   "execution_count": 5,
   "metadata": {},
   "outputs": [
    {
     "name": "stderr",
     "output_type": "stream",
     "text": [
      "c:\\Users\\T4ACQ\\miniconda3\\envs\\qcodes\\lib\\site-packages\\qcodes\\station.py:429: ValidationWarning: Additional properties are not allowed ('auto_reconnect' was unexpected)\n",
      "\n",
      "Failed validating 'additionalProperties' in schema['properties']['instruments']['patternProperties']['^\\\\w+$']:\n",
      "    {'additionalProperties': False,\n",
      "     'properties': {'add_parameters': {'additionalProperties': False,\n",
      "                                       'patternProperties': {'^(\\\\w+)(\\\\.\\\\w+)*$': {'additionalProperties': False,\n",
      "                                                                                    'properties': {'initial_value': {},\n",
      "                                                                                                   'inter_delay': {'type': 'number'},\n",
      "                                                                                                   'label': {'type': 'string'},\n",
      "                                                                                                   'limits': {'additionalItems': False,\n",
      "                                                                                                              'items': [{'type': 'number'},\n",
      "                                                                                                                        {'type': 'number'}],\n",
      "                                                                                                              'maxItems': 2,\n",
      "                                                                                                              'minItems': 2,\n",
      "                                                                                                              'type': ['array',\n",
      "                                                                                                                       'string']},\n",
      "                                                                                                   'monitor': {'type': 'boolean'},\n",
      "                                                                                                   'offset': {'type': 'number'},\n",
      "                                                                                                   'post_delay': {'type': 'number'},\n",
      "                                                                                                   'scale': {'type': 'number'},\n",
      "                                                                                                   'source': {'pattern': '^(\\\\w+)(\\\\.\\\\w+)*$',\n",
      "                                                                                                              'type': 'string'},\n",
      "                                                                                                   'step': {'type': 'number'},\n",
      "                                                                                                   'unit': {'type': 'string'}},\n",
      "                                                                                    'type': 'object'}},\n",
      "                                       'type': 'object'},\n",
      "                    'address': {'type': 'string'},\n",
      "                    'driver': {'description': 'Deprecated. Append '\n",
      "                                              \"'driver'-value to 'type' \"\n",
      "                                              'field instead.',\n",
      "                               'type': 'string'},\n",
      "                    'enable_forced_reconnect': {'type': 'boolean'},\n",
      "                    'init': {'type': 'object'},\n",
      "                    'parameters': {'additionalProperties': False,\n",
      "                                   'patternProperties': {'^(\\\\w+)(\\\\.\\\\w+)*$': {'additionalProperties': False,\n",
      "                                                                                'properties': {'alias': {'pattern': '^\\\\w+$',\n",
      "                                                                                                         'type': 'string'},\n",
      "                                                                                               'initial_value': {},\n",
      "                                                                                               'inter_delay': {'type': 'number'},\n",
      "                                                                                               'label': {'type': 'string'},\n",
      "                                                                                               'limits': {'additionalItems': False,\n",
      "                                                                                                          'items': [{'type': 'number'},\n",
      "                                                                                                                    {'type': 'number'}],\n",
      "                                                                                                          'maxItems': 2,\n",
      "                                                                                                          'minItems': 2,\n",
      "                                                                                                          'type': ['array',\n",
      "                                                                                                                   'string']},\n",
      "                                                                                               'monitor': {'type': 'boolean'},\n",
      "                                                                                               'offset': {'type': 'number'},\n",
      "                                                                                               'post_delay': {'type': 'number'},\n",
      "                                                                                               'scale': {'type': 'number'},\n",
      "                                                                                               'step': {'type': 'number'},\n",
      "                                                                                               'unit': {'type': 'string'}},\n",
      "                                                                                'type': 'object'}},\n",
      "                                   'type': 'object'},\n",
      "                    'port': {'type': 'integer'},\n",
      "                    'type': {'anyOf': [{'pattern': '^(\\\\w+)(\\\\.\\\\w+)*$'},\n",
      "                                       {'$ref': '#/definitions/instruments'}],\n",
      "                             'type': 'string'}},\n",
      "     'required': ['type'],\n",
      "     'type': 'object'}\n",
      "\n",
      "On instance['instruments']['AlazarController']:\n",
      "    {'auto_reconnect': True,\n",
      "     'enable_forced_reconnect': True,\n",
      "     'init': ordereddict([('alazar_name', 'Alazar_ATS9440')]),\n",
      "     'type': 'qdev_wrappers.alazar_controllers.ATSChannelController.ATSChannelController'}\n",
      "  warnings.warn(message, ValidationWarning)\n"
     ]
    }
   ],
   "source": [
    "STATION = qc.Station(config_file=os.path.join(data_path, 'Config files', 'config_20220311.yaml'), \n",
    "    use_monitor='False') "
   ]
  },
  {
   "cell_type": "code",
   "execution_count": 5,
   "metadata": {},
   "outputs": [
    {
     "name": "stdout",
     "output_type": "stream",
     "text": [
      "Upgrading database; v0 -> v1: : 0it [00:00, ?it/s]\n",
      "Upgrading database; v1 -> v2: 100%|██████████| 1/1 [00:00<00:00, 333.41it/s]\n",
      "Upgrading database; v2 -> v3: : 0it [00:00, ?it/s]\n",
      "Upgrading database; v3 -> v4: : 0it [00:00, ?it/s]\n",
      "Upgrading database; v4 -> v5: 100%|██████████| 1/1 [00:00<00:00, 499.56it/s]\n",
      "Upgrading database; v5 -> v6: : 0it [00:00, ?it/s]\n",
      "Upgrading database; v6 -> v7: 100%|██████████| 1/1 [00:00<00:00, 12.17it/s]\n",
      "Upgrading database; v7 -> v8: 100%|██████████| 1/1 [00:00<00:00, 499.80it/s]\n",
      "Upgrading database; v8 -> v9: 100%|██████████| 1/1 [00:00<00:00, 1001.27it/s]\n"
     ]
    }
   ],
   "source": [
    "initialise_or_create_database_at(os.path.join(data_path, 'Experiment databases', \n",
    "    sample_name+'_2022_05_15_leakage_tests.db'))"
   ]
  },
  {
   "cell_type": "code",
   "execution_count": 6,
   "metadata": {},
   "outputs": [],
   "source": [
    "initialise_or_create_database_at(os.path.join(data_path, 'Experiment databases', \n",
    "    sample_name+'_2022_05_15_leakage_tests.db'))"
   ]
  },
  {
   "cell_type": "markdown",
   "metadata": {},
   "source": [
    "# Load instruments"
   ]
  },
  {
   "cell_type": "markdown",
   "metadata": {},
   "source": [
    "### QDac II-1"
   ]
  },
  {
   "cell_type": "code",
   "execution_count": 7,
   "metadata": {},
   "outputs": [
    {
     "name": "stdout",
     "output_type": "stream",
     "text": [
      "Connected to: QDevil QDAC-II (serial:62, firmware:5-0.9.26) in 0.19s\n"
     ]
    }
   ],
   "source": [
    "qdacII1 = QDAC2.QDac2(name='QDacII1', address='ASRL7::INSTR')"
   ]
  },
  {
   "cell_type": "code",
   "execution_count": 34,
   "metadata": {},
   "outputs": [],
   "source": [
    "for ch in qdacII1.channels:\n",
    "    if (np.abs(ch.dc_constant_V() - 0.0) > 1e-5):\n",
    "        print(\"ch \",ch._name,\" voltage: \",ch.dc_constant_V())"
   ]
  },
  {
   "cell_type": "code",
   "execution_count": 9,
   "metadata": {},
   "outputs": [],
   "source": [
    "for ch in qdacII1.channels:\n",
    "    ch.output_range('high')\n",
    "    ch.measurement_range('low')"
   ]
  },
  {
   "cell_type": "code",
   "execution_count": 10,
   "metadata": {},
   "outputs": [
    {
     "name": "stdout",
     "output_type": "stream",
     "text": [
      "Elapsed time per current read in QDac2:  0.02328662872314453\n"
     ]
    }
   ],
   "source": [
    "tstart = time.time()\n",
    "num_repetitions = 10\n",
    "for i in range(num_repetitions):\n",
    "    qdacII1.ch01.read_current_A()\n",
    "tend = time.time()\n",
    "print(\"Elapsed time per current read in QDac2: \", (tend - tstart)/num_repetitions)"
   ]
  },
  {
   "cell_type": "markdown",
   "metadata": {},
   "source": [
    "### QDac II-2"
   ]
  },
  {
   "cell_type": "code",
   "execution_count": 11,
   "metadata": {},
   "outputs": [
    {
     "name": "stdout",
     "output_type": "stream",
     "text": [
      "Connected to: QDevil QDAC-II (serial:33, firmware:6-0.13.0) in 0.14s\n"
     ]
    }
   ],
   "source": [
    "qdacII2 = QDAC2.QDac2(name='QDacII2', address='ASRL8::INSTR')"
   ]
  },
  {
   "cell_type": "code",
   "execution_count": 35,
   "metadata": {},
   "outputs": [],
   "source": [
    "for ch in qdacII2.channels:\n",
    "    if (np.abs(ch.dc_constant_V() - 0.0) > 1e-5):\n",
    "        print(\"ch \",ch._name,\" voltage: \",ch.dc_constant_V())"
   ]
  },
  {
   "cell_type": "code",
   "execution_count": 13,
   "metadata": {},
   "outputs": [],
   "source": [
    "for ch in qdacII2.channels:\n",
    "    ch.output_range('high')\n",
    "    ch.measurement_range('low')"
   ]
  },
  {
   "cell_type": "code",
   "execution_count": 13,
   "metadata": {},
   "outputs": [
    {
     "name": "stdout",
     "output_type": "stream",
     "text": [
      "Elapsed time per current read in QDac2:  0.0156510591506958\n"
     ]
    }
   ],
   "source": [
    "tstart = time.time()\n",
    "num_repetitions = 10\n",
    "for i in range(num_repetitions):\n",
    "    qdacII1.ch01.read_current_A()\n",
    "tend = time.time()\n",
    "print(\"Elapsed time per current read in QDac2: \", (tend - tstart)/num_repetitions)"
   ]
  },
  {
   "cell_type": "markdown",
   "metadata": {},
   "source": [
    "# Voltage and current channels"
   ]
  },
  {
   "cell_type": "code",
   "execution_count": 14,
   "metadata": {},
   "outputs": [
    {
     "name": "stdout",
     "output_type": "stream",
     "text": [
      "number of channels connected to qdacII1:  17\n",
      "\n",
      "qdacII1 gates: \n",
      "top_left_confinement :  2\n",
      "top_right_confinement :  22\n",
      "reservoir_gate :  18\n",
      "reservoir_ohmic :  16\n",
      "barrier_reservoir_Tplunger :  13\n",
      "Tplunger :  14\n",
      "SET1_confinement :  6\n",
      "SET1_plunger1_gate :  4\n",
      "SET1_plunger1_ohmic :  1\n",
      "SET1_right_barrier :  11\n",
      "SET1_plunger2_gate :  10\n",
      "SET1_plunger2_ohmic :  7\n",
      "SET2_confinement :  21\n",
      "SET2_plunger1_gate :  19\n",
      "SET2_left_barrier :  20\n",
      "SET2_plunger2_gate :  23\n",
      "SET2_plunger2_ohmic :  24\n",
      "\n",
      "number of channels connected to qdacII2:  18\n",
      "\n",
      "qdacII2 gates: \n",
      "bottom_confinement :  6\n",
      "source_gate :  20\n",
      "source_ohmic :  22\n",
      "barrier_source_plunger1 :  21\n",
      "plunger1 :  19\n",
      "barrier_plunger1_plunger2 :  18\n",
      "plunger2 :  17\n",
      "barrier_plunger2_Tplunger :  15\n",
      "barrier_Tplunger_plunger3 :  13\n",
      "plunger3 :  12\n",
      "barrier_plunger3_plunger4 :  11\n",
      "plunger4 :  10\n",
      "barrier_plunger4_drain :  4\n",
      "drain_gate :  3\n",
      "drain_ohmic :  2\n",
      "SET1_left_barrier :  24\n",
      "SET2_plunger1_ohmic :  7\n",
      "SET2_right_barrier :  1\n"
     ]
    }
   ],
   "source": [
    "filename = 'gate_name_to_qdac_channel_mapping.json'\n",
    "with open(os.path.join(data_path, 'Config files', filename), 'r') as json_file:\n",
    "    gate_to_qdac_channel_mapping = json.load(json_file)\n",
    "\n",
    "print(\"number of channels connected to qdacII1: \", len(list(gate_to_qdac_channel_mapping['qdacII1'].values())))\n",
    "print(\"\\nqdacII1 gates: \")\n",
    "for k, v in gate_to_qdac_channel_mapping['qdacII1'].items():\n",
    "    print(k,\": \",v)\n",
    "\n",
    "print(\"\\nnumber of channels connected to qdacII2: \", len(list(gate_to_qdac_channel_mapping['qdacII2'].values())))\n",
    "print(\"\\nqdacII2 gates: \")\n",
    "for k, v in gate_to_qdac_channel_mapping['qdacII2'].items():\n",
    "    print(k,\": \",v)"
   ]
  },
  {
   "cell_type": "code",
   "execution_count": 17,
   "metadata": {},
   "outputs": [],
   "source": [
    "safety_limits = {'V_gate': np.array([-1.0, 3.0]),\n",
    "                 'V_confinement': np.array([-1.1, 0.1]), \n",
    "                 'V_ohmic': np.array([-0.025, 0.025])}"
   ]
  },
  {
   "cell_type": "code",
   "execution_count": 16,
   "metadata": {},
   "outputs": [],
   "source": [
    "def get_qdacII_current(qdac, channel:int):\n",
    "    return getattr(qdac, 'ch'+'{:02d}'.format(channel)).read_current_A()[0]"
   ]
  },
  {
   "cell_type": "code",
   "execution_count": 18,
   "metadata": {},
   "outputs": [],
   "source": [
    "for qdacII1_ch in qdacII1.channels:\n",
    "    qdacII1_ch_index = int(qdacII1_ch._name.split(\"ch\")[1])\n",
    "    if (qdacII1_ch_index in gate_to_qdac_channel_mapping['qdacII1'].values()):\n",
    "        gate_name = list(gate_to_qdac_channel_mapping['qdacII1'].keys())[list(gate_to_qdac_channel_mapping['qdacII1'].values()).index(qdacII1_ch_index)]\n",
    "        vars()[\"I_\"+gate_name] = qc.Parameter(instrument=qdacII1, name=\"I_\"+gate_name, \n",
    "                                              label=\"I_\"+gate_name+\"_ch_\"+str(qdacII1_ch_index), \n",
    "                                              unit=\"A\", \n",
    "                                              get_cmd=partial(get_qdacII_current, **{'qdac': qdacII1, 'channel': qdacII1_ch_index})) \n",
    "        if (\"ohmic\" in gate_name):\n",
    "            vars()[\"V_\"+gate_name] = qc.Parameter(instrument=qdacII1, name=\"V_\"+gate_name, \n",
    "                                                  label=\"V_\"+gate_name+\"_ch_\"+str(qdacII1_ch_index), \n",
    "                                                  unit=\"V\", \n",
    "                                                  get_cmd=qdacII1_ch.dc_constant_V, \n",
    "                                                  set_cmd=qdacII1_ch.dc_constant_V, vals=Numbers(safety_limits['V_ohmic'].min(), safety_limits['V_ohmic'].max())) \n",
    "        elif (\"confinement\" in gate_name):\n",
    "            vars()[\"V_\"+gate_name] = qc.Parameter(instrument=qdacII1, name=\"V_\"+gate_name, \n",
    "                                                  label=\"V_\"+gate_name+\"_ch_\"+str(qdacII1_ch_index), \n",
    "                                                  unit=\"V\", \n",
    "                                                  get_cmd=qdacII1_ch.dc_constant_V, \n",
    "                                                  set_cmd=qdacII1_ch.dc_constant_V, \n",
    "                                                  vals=Numbers(safety_limits['V_confinement'].min(), safety_limits['V_confinement'].max())) \n",
    "        else:\n",
    "            vars()[\"V_\"+gate_name] = qc.Parameter(instrument=qdacII1, name=\"V_\"+gate_name, \n",
    "                                                  label=\"V_\"+gate_name+\"_ch_\"+str(qdacII1_ch_index), \n",
    "                                                  unit=\"V\", get_cmd=qdacII1_ch.dc_constant_V, \n",
    "                                                  set_cmd=qdacII1_ch.dc_constant_V, \n",
    "                                                  vals=Numbers(safety_limits['V_gate'].min(), safety_limits['V_gate'].max())) "
   ]
  },
  {
   "cell_type": "code",
   "execution_count": 20,
   "metadata": {},
   "outputs": [],
   "source": [
    "for qdacII2_ch in qdacII2.channels:\n",
    "    qdacII2_ch_index = int(qdacII2_ch._name.split(\"ch\")[1])\n",
    "    if (qdacII2_ch_index in gate_to_qdac_channel_mapping['qdacII2'].values()):\n",
    "        gate_name = list(gate_to_qdac_channel_mapping['qdacII2'].keys())[list(gate_to_qdac_channel_mapping['qdacII2'].values()).index(qdacII2_ch_index)]\n",
    "        vars()[\"I_\"+gate_name] = qc.Parameter(instrument=qdacII2, name=\"I_\"+gate_name, \n",
    "                                              label=\"I_\"+gate_name+\"_ch_\"+str(qdacII2_ch_index), \n",
    "                                              unit=\"A\", \n",
    "                                              get_cmd=partial(get_qdacII_current, **{'qdac': qdacII2, 'channel': qdacII2_ch_index})) \n",
    "        if (\"ohmic\" in gate_name):\n",
    "            vars()[\"V_\"+gate_name] = qc.Parameter(instrument=qdacII2, name=\"V_\"+gate_name, \n",
    "                                                  label=\"V_\"+gate_name+\"_ch_\"+str(qdacII2_ch_index), \n",
    "                                                  unit=\"V\", \n",
    "                                                  get_cmd=qdacII2_ch.dc_constant_V, \n",
    "                                                  set_cmd=qdacII2_ch.dc_constant_V, vals=Numbers(safety_limits['V_ohmic'].min(), safety_limits['V_ohmic'].max())) \n",
    "        elif (\"confinement\" in gate_name):\n",
    "            vars()[\"V_\"+gate_name] = qc.Parameter(instrument=qdacII2, name=\"V_\"+gate_name, \n",
    "                                                  label=\"V_\"+gate_name+\"_ch_\"+str(qdacII2_ch_index), \n",
    "                                                  unit=\"V\", \n",
    "                                                  get_cmd=qdacII2_ch.dc_constant_V, \n",
    "                                                  set_cmd=qdacII2_ch.dc_constant_V, \n",
    "                                                  vals=Numbers(safety_limits['V_confinement'].min(), safety_limits['V_confinement'].max())) \n",
    "        else:\n",
    "            vars()[\"V_\"+gate_name] = qc.Parameter(instrument=qdacII2, name=\"V_\"+gate_name, \n",
    "                                                  label=\"V_\"+gate_name+\"_ch_\"+str(qdacII2_ch_index), \n",
    "                                                  unit=\"V\", get_cmd=qdacII2_ch.dc_constant_V, \n",
    "                                                  set_cmd=qdacII2_ch.dc_constant_V, \n",
    "                                                  vals=Numbers(safety_limits['V_gate'].min(), safety_limits['V_gate'].max())) "
   ]
  },
  {
   "cell_type": "code",
   "execution_count": 21,
   "metadata": {},
   "outputs": [],
   "source": [
    "current_channels = []\n",
    "voltage_channels = []\n",
    "for gate_name, qdacII1_channel in gate_to_qdac_channel_mapping['qdacII1'].items():\n",
    "    for qdacII1_ch in qdacII1.channels:\n",
    "        qdacII1_ch_index = int(qdacII1_ch._name.split(\"ch\")[1])\n",
    "        if (qdacII1_ch_index == qdacII1_channel):\n",
    "            current_channels.append(vars()[\"I_\"+gate_name])\n",
    "            voltage_channels.append(vars()[\"V_\"+gate_name])\n",
    "\n",
    "for gate_name, qdacII2_channel in gate_to_qdac_channel_mapping['qdacII2'].items():\n",
    "    for qdacII2_ch in qdacII2.channels:\n",
    "        qdacII2_ch_index = int(qdacII2_ch._name.split(\"ch\")[1])\n",
    "        if (qdacII2_ch_index == qdacII2_channel):\n",
    "            current_channels.append(vars()[\"I_\"+gate_name])\n",
    "            voltage_channels.append(vars()[\"V_\"+gate_name])"
   ]
  },
  {
   "cell_type": "code",
   "execution_count": 32,
   "metadata": {},
   "outputs": [
    {
     "name": "stdout",
     "output_type": "stream",
     "text": [
      "        V_top_left_confinement_ch_2 \t QDacII1\n",
      "      V_top_right_confinement_ch_22 \t QDacII1\n",
      "             V_reservoir_gate_ch_18 \t QDacII1\n",
      "            V_reservoir_ohmic_ch_16 \t QDacII1\n",
      " V_barrier_reservoir_Tplunger_ch_13 \t QDacII1\n",
      "                   V_Tplunger_ch_14 \t QDacII1\n",
      "            V_SET1_confinement_ch_6 \t QDacII1\n",
      "          V_SET1_plunger1_gate_ch_4 \t QDacII1\n",
      "         V_SET1_plunger1_ohmic_ch_1 \t QDacII1\n",
      "         V_SET1_right_barrier_ch_11 \t QDacII1\n",
      "         V_SET1_plunger2_gate_ch_10 \t QDacII1\n",
      "         V_SET1_plunger2_ohmic_ch_7 \t QDacII1\n",
      "           V_SET2_confinement_ch_21 \t QDacII1\n",
      "         V_SET2_plunger1_gate_ch_19 \t QDacII1\n",
      "          V_SET2_left_barrier_ch_20 \t QDacII1\n",
      "         V_SET2_plunger2_gate_ch_23 \t QDacII1\n",
      "        V_SET2_plunger2_ohmic_ch_24 \t QDacII1\n",
      "          V_bottom_confinement_ch_6 \t QDacII2\n",
      "                V_source_gate_ch_20 \t QDacII2\n",
      "               V_source_ohmic_ch_22 \t QDacII2\n",
      "    V_barrier_source_plunger1_ch_21 \t QDacII2\n",
      "                   V_plunger1_ch_19 \t QDacII2\n",
      "  V_barrier_plunger1_plunger2_ch_18 \t QDacII2\n",
      "                   V_plunger2_ch_17 \t QDacII2\n",
      "  V_barrier_plunger2_Tplunger_ch_15 \t QDacII2\n",
      "  V_barrier_Tplunger_plunger3_ch_13 \t QDacII2\n",
      "                   V_plunger3_ch_12 \t QDacII2\n",
      "  V_barrier_plunger3_plunger4_ch_11 \t QDacII2\n",
      "                   V_plunger4_ch_10 \t QDacII2\n",
      "      V_barrier_plunger4_drain_ch_4 \t QDacII2\n",
      "                  V_drain_gate_ch_3 \t QDacII2\n",
      "                 V_drain_ohmic_ch_2 \t QDacII2\n",
      "          V_SET1_left_barrier_ch_24 \t QDacII2\n",
      "         V_SET2_plunger1_ohmic_ch_7 \t QDacII2\n",
      "          V_SET2_right_barrier_ch_1 \t QDacII2\n"
     ]
    }
   ],
   "source": [
    "for vch in voltage_channels:\n",
    "    print('{0:>35}'.format(vch.label), '\\t', vch._instrument.name)"
   ]
  },
  {
   "cell_type": "markdown",
   "metadata": {},
   "source": [
    "# Leakage matrix"
   ]
  },
  {
   "cell_type": "markdown",
   "metadata": {},
   "source": [
    "**Notes**\n",
    "- All 35 contacts are connected from qdac channels to bbox channels\n",
    "- We use dc-1.9 MHz low-pass-filters on all ohmic and ohmic-connected-gate channels \n",
    "\n",
    "**List of channels with dc-1.9 MHz low-pass filter**\n",
    "- `source_gate`\n",
    "- `source_ohmic`\n",
    "- `drain_gate`\n",
    "- `drain_ohmic`\n",
    "- `SET1_plunger1_gate`\n",
    "- `SET1_plunger1_ohmic`\n",
    "- `SET1_plunger2_gate`\n",
    "- `SET1_plunger2_ohmic`\n",
    "- `SET2_plunger1_gate`\n",
    "- `SET2_plunger1_ohmic`\n",
    "- `SET2_plunger2_gate`\n",
    "- `SET2_plunger2_ohmic`"
   ]
  },
  {
   "cell_type": "code",
   "execution_count": 33,
   "metadata": {},
   "outputs": [],
   "source": [
    "exp = exc.load_or_create_experiment(\"leakage_matrix\", \n",
    "    sample_name=sample_name)"
   ]
  },
  {
   "cell_type": "code",
   "execution_count": 36,
   "metadata": {},
   "outputs": [
    {
     "name": "stdout",
     "output_type": "stream",
     "text": [
      "Sweeping Vch:  V_top_left_confinement\n",
      "Starting experimental run with id: 1. Using 'qcodes.utils.dataset.doNd.do1d'\n",
      "Sweeping Vch:  V_top_right_confinement\n",
      "Starting experimental run with id: 2. Using 'qcodes.utils.dataset.doNd.do1d'\n",
      "Sweeping Vch:  V_reservoir_gate\n",
      "Starting experimental run with id: 3. Using 'qcodes.utils.dataset.doNd.do1d'\n",
      "Sweeping Vch:  V_reservoir_ohmic\n",
      "Starting experimental run with id: 4. Using 'qcodes.utils.dataset.doNd.do1d'\n",
      "Sweeping Vch:  V_barrier_reservoir_Tplunger\n",
      "Starting experimental run with id: 5. Using 'qcodes.utils.dataset.doNd.do1d'\n",
      "Sweeping Vch:  V_Tplunger\n",
      "Starting experimental run with id: 6. Using 'qcodes.utils.dataset.doNd.do1d'\n",
      "Sweeping Vch:  V_SET1_confinement\n",
      "Starting experimental run with id: 7. Using 'qcodes.utils.dataset.doNd.do1d'\n",
      "Sweeping Vch:  V_SET1_plunger1_gate\n",
      "Starting experimental run with id: 8. Using 'qcodes.utils.dataset.doNd.do1d'\n",
      "Sweeping Vch:  V_SET1_plunger1_ohmic\n",
      "Starting experimental run with id: 9. Using 'qcodes.utils.dataset.doNd.do1d'\n",
      "Sweeping Vch:  V_SET1_right_barrier\n",
      "Starting experimental run with id: 10. Using 'qcodes.utils.dataset.doNd.do1d'\n",
      "Sweeping Vch:  V_SET1_plunger2_gate\n",
      "Starting experimental run with id: 11. Using 'qcodes.utils.dataset.doNd.do1d'\n",
      "Sweeping Vch:  V_SET1_plunger2_ohmic\n",
      "Starting experimental run with id: 12. Using 'qcodes.utils.dataset.doNd.do1d'\n",
      "Sweeping Vch:  V_SET2_confinement\n",
      "Starting experimental run with id: 13. Using 'qcodes.utils.dataset.doNd.do1d'\n",
      "Sweeping Vch:  V_SET2_plunger1_gate\n",
      "Starting experimental run with id: 14. Using 'qcodes.utils.dataset.doNd.do1d'\n",
      "Sweeping Vch:  V_SET2_left_barrier\n",
      "Starting experimental run with id: 15. Using 'qcodes.utils.dataset.doNd.do1d'\n",
      "Sweeping Vch:  V_SET2_plunger2_gate\n",
      "Starting experimental run with id: 16. Using 'qcodes.utils.dataset.doNd.do1d'\n",
      "Sweeping Vch:  V_SET2_plunger2_ohmic\n",
      "Starting experimental run with id: 17. Using 'qcodes.utils.dataset.doNd.do1d'\n",
      "Sweeping Vch:  V_bottom_confinement\n",
      "Starting experimental run with id: 18. Using 'qcodes.utils.dataset.doNd.do1d'\n",
      "Sweeping Vch:  V_source_gate\n",
      "Starting experimental run with id: 19. Using 'qcodes.utils.dataset.doNd.do1d'\n",
      "Sweeping Vch:  V_source_ohmic\n",
      "Starting experimental run with id: 20. Using 'qcodes.utils.dataset.doNd.do1d'\n",
      "Sweeping Vch:  V_barrier_source_plunger1\n",
      "Starting experimental run with id: 21. Using 'qcodes.utils.dataset.doNd.do1d'\n",
      "Sweeping Vch:  V_plunger1\n",
      "Starting experimental run with id: 22. Using 'qcodes.utils.dataset.doNd.do1d'\n",
      "Sweeping Vch:  V_barrier_plunger1_plunger2\n",
      "Starting experimental run with id: 23. Using 'qcodes.utils.dataset.doNd.do1d'\n",
      "Sweeping Vch:  V_plunger2\n",
      "Starting experimental run with id: 24. Using 'qcodes.utils.dataset.doNd.do1d'\n",
      "Sweeping Vch:  V_barrier_plunger2_Tplunger\n",
      "Starting experimental run with id: 25. Using 'qcodes.utils.dataset.doNd.do1d'\n",
      "Sweeping Vch:  V_barrier_Tplunger_plunger3\n",
      "Starting experimental run with id: 26. Using 'qcodes.utils.dataset.doNd.do1d'\n",
      "Sweeping Vch:  V_plunger3\n",
      "Starting experimental run with id: 27. Using 'qcodes.utils.dataset.doNd.do1d'\n",
      "Sweeping Vch:  V_barrier_plunger3_plunger4\n",
      "Starting experimental run with id: 28. Using 'qcodes.utils.dataset.doNd.do1d'\n",
      "Sweeping Vch:  V_plunger4\n",
      "Starting experimental run with id: 29. Using 'qcodes.utils.dataset.doNd.do1d'\n",
      "Sweeping Vch:  V_barrier_plunger4_drain\n",
      "Starting experimental run with id: 30. Using 'qcodes.utils.dataset.doNd.do1d'\n",
      "Sweeping Vch:  V_drain_gate\n",
      "Starting experimental run with id: 31. Using 'qcodes.utils.dataset.doNd.do1d'\n",
      "Sweeping Vch:  V_drain_ohmic\n",
      "Starting experimental run with id: 32. Using 'qcodes.utils.dataset.doNd.do1d'\n",
      "Sweeping Vch:  V_SET1_left_barrier\n",
      "Starting experimental run with id: 33. Using 'qcodes.utils.dataset.doNd.do1d'\n",
      "Sweeping Vch:  V_SET2_plunger1_ohmic\n",
      "Starting experimental run with id: 34. Using 'qcodes.utils.dataset.doNd.do1d'\n",
      "Sweeping Vch:  V_SET2_right_barrier\n",
      "Starting experimental run with id: 35. Using 'qcodes.utils.dataset.doNd.do1d'\n"
     ]
    }
   ],
   "source": [
    "for Vch in voltage_channels:\n",
    "    print(\"Sweeping Vch: \", Vch.name)\n",
    "    do1d(Vch, -0.005, 0.005, 51, 0.001, *current_channels) \n",
    "    Vch(0.0)"
   ]
  },
  {
   "cell_type": "markdown",
   "metadata": {},
   "source": [
    "# Switch off device (of not off)"
   ]
  },
  {
   "cell_type": "code",
   "execution_count": null,
   "metadata": {},
   "outputs": [],
   "source": []
  }
 ],
 "metadata": {
  "kernelspec": {
   "display_name": "Python 3.7.6 ('base')",
   "language": "python",
   "name": "python3"
  },
  "language_info": {
   "codemirror_mode": {
    "name": "ipython",
    "version": 3
   },
   "file_extension": ".py",
   "mimetype": "text/x-python",
   "name": "python",
   "nbconvert_exporter": "python",
   "pygments_lexer": "ipython3",
   "version": "3.7.6"
  },
  "orig_nbformat": 4,
  "vscode": {
   "interpreter": {
    "hash": "ffd7ca4021e30b9d45cda531d28b6d577d53dede411111f377a2e0c545260ce2"
   }
  }
 },
 "nbformat": 4,
 "nbformat_minor": 2
}
