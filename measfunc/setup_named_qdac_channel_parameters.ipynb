{
 "cells": [
  {
   "cell_type": "code",
   "execution_count": null,
   "metadata": {},
   "outputs": [],
   "source": [
    "gate_to_bbox_mapping = {\n",
    "    'top_confinement': 14,\n",
    "    'bottom_confinement': 16,\n",
    "    'source_gate': 21,\n",
    "    'source_ohmic': 22,\n",
    "    'barrier_source_Tplunger': 11,\n",
    "    'Tplunger': 12,\n",
    "    'barrier_Tplunger_drain': 10,\n",
    "    'drain_gate': 13,\n",
    "    'drain_ohmic': 6,\n",
    "    'SET_confinement': 24,\n",
    "    'SET_plunger1_gate': 20,\n",
    "    'SET_plunger1_ohmic': 23,\n",
    "    'SET_left_barrier': 1,\n",
    "    'SET_right_barrier': 2,\n",
    "    'SET_plunger2_gate': 18,\n",
    "    'SET_plunger2_ohmic': 7}"
   ]
  },
  {
   "cell_type": "code",
   "execution_count": null,
   "metadata": {},
   "outputs": [],
   "source": [
    "safety_limits = {'V_gate': np.array([-0.5, 3.75]),\n",
    "                 'V_SET_barrier': np.array([-0.5, 1.5]),\n",
    "                 'V_barrier_Tplunger_drain': np.array([-0.5, 3.0]), \n",
    "                 'V_JellyBean_gate': np.array([-0.5, 2.5]),  \n",
    "                 'V_confinement': np.array([-1.1, 0.1]), \n",
    "                 'V_ohmic': np.array([-0.025, 0.025])}\n",
    "\n",
    "for qdac_A_ch in qdac_A.channels:\n",
    "    qdac_A_ch_index = int(qdac_A_ch._name.split(\"chan\")[1])\n",
    "    if (qdac_A_ch_index in gate_to_bbox_mapping.values()):\n",
    "        gate_name = list(gate_to_bbox_mapping.keys())[list(gate_to_bbox_mapping.values()).index(qdac_A_ch_index)]\n",
    "        vars()[\"I_\"+gate_name] = qc.Parameter(instrument=qdac_A, name=\"I_\"+gate_name, \n",
    "            label=\"I_\"+gate_name+\"_ch_\"+str(qdac_A_ch_index), unit=\"A\", get_cmd=qdac_A_ch.i) \n",
    "        if (\"ohmic\" in gate_name):\n",
    "            vars()[\"V_\"+gate_name] = qc.Parameter(instrument=qdac_A, name=\"V_\"+gate_name, \n",
    "                label=\"V_\"+gate_name+\"_ch_\"+str(qdac_A_ch_index), unit=\"V\", get_cmd=qdac_A_ch.v, \n",
    "                set_cmd=qdac_A_ch.v, vals=Numbers(safety_limits['V_ohmic'].min(), safety_limits['V_ohmic'].max())) \n",
    "        elif (\"confinement\" in gate_name):\n",
    "            vars()[\"V_\"+gate_name] = qc.Parameter(instrument=qdac_A, name=\"V_\"+gate_name, \n",
    "                label=\"V_\"+gate_name+\"_ch_\"+str(qdac_A_ch_index), unit=\"V\", get_cmd=qdac_A_ch.v, \n",
    "                set_cmd=qdac_A_ch.v, vals=Numbers(safety_limits['V_confinement'].min(), safety_limits['V_confinement'].max())) \n",
    "        else:\n",
    "            if (gate_name == \"SET_left_barrier\") or (gate_name == \"SET_right_barrier\"):\n",
    "                vars()[\"V_\"+gate_name] = qc.Parameter(instrument=qdac_A, name=\"V_\"+gate_name, \n",
    "                    label=\"V_\"+gate_name+\"_ch_\"+str(qdac_A_ch_index), unit=\"V\", get_cmd=qdac_A_ch.v, \n",
    "                    set_cmd=qdac_A_ch.v, vals=Numbers(safety_limits['V_SET_barrier'].min(), safety_limits['V_SET_barrier'].max())) \n",
    "            elif (gate_name == \"barrier_Tplunger_drain\"):\n",
    "                vars()[\"V_\"+gate_name] = qc.Parameter(instrument=qdac_A, name=\"V_\"+gate_name, \n",
    "                    label=\"V_\"+gate_name+\"_ch_\"+str(qdac_A_ch_index), unit=\"V\", get_cmd=qdac_A_ch.v, \n",
    "                    set_cmd=qdac_A_ch.v, vals=Numbers(safety_limits['V_barrier_Tplunger_drain'].min(), safety_limits['V_barrier_Tplunger_drain'].max()))\n",
    "            elif ((gate_name == \"Tplunger\") or (gate_name == \"barrier_source_Tplunger\")):\n",
    "                vars()[\"V_\"+gate_name] = qc.Parameter(instrument=qdac_A, name=\"V_\"+gate_name, \n",
    "                    label=\"V_\"+gate_name+\"_ch_\"+str(qdac_A_ch_index), unit=\"V\", get_cmd=qdac_A_ch.v, \n",
    "                    set_cmd=qdac_A_ch.v, vals=Numbers(safety_limits['V_JellyBean_gate'].min(), safety_limits['V_JellyBean_gate'].max()))\n",
    "            else:\n",
    "                vars()[\"V_\"+gate_name] = qc.Parameter(instrument=qdac_A, name=\"V_\"+gate_name, \n",
    "                    label=\"V_\"+gate_name+\"_ch_\"+str(qdac_A_ch_index), unit=\"V\", get_cmd=qdac_A_ch.v, \n",
    "                    set_cmd=qdac_A_ch.v, vals=Numbers(safety_limits['V_gate'].min(), safety_limits['V_gate'].max()))"
   ]
  }
 ],
 "metadata": {
  "language_info": {
   "name": "python"
  },
  "orig_nbformat": 4
 },
 "nbformat": 4,
 "nbformat_minor": 2
}
