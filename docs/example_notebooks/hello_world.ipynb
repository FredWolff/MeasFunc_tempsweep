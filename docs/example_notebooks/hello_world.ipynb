{
 "cells": [
  {
   "cell_type": "markdown",
   "metadata": {},
   "source": [
    "# Hello, world!\n",
    "\n",
    "This notebook shows you how get a friendly greeting from measfunc."
   ]
  },
  {
   "cell_type": "code",
   "execution_count": 1,
   "metadata": {},
   "outputs": [],
   "source": [
    "from measfunc.hello_world import hello_world, greeter\n",
    "from measfunc.dmmqdac import BufferedAcquisitionController"
   ]
  },
  {
   "cell_type": "code",
   "execution_count": null,
   "metadata": {},
   "outputs": [],
   "source": [
    "name = \"you\"\n",
    "print(greeter(name))\n",
    "print(\"and\")\n",
    "hello_world()"
   ]
  },
  {
   "cell_type": "code",
   "execution_count": null,
   "metadata": {},
   "outputs": [],
   "source": [
    "config_dictionary = {'fast': qdac.ch01.v, 'slow': qdac.ch02.v}\n",
    "dmmqdac = DMMAcquisition('dmmqdac', dmm, qdac, **fastslow)\n",
    "dmmqdac.fast.V_start(0.2)\n",
    "do0d(dmmqdac.dmm2dbuff)"
   ]
  },
  {
   "cell_type": "markdown",
   "metadata": {},
   "source": [
    "# Usage example with dummy instruments"
   ]
  },
  {
   "cell_type": "code",
   "execution_count": 2,
   "metadata": {},
   "outputs": [],
   "source": [
    "from qcodes.tests.instrument_mocks import DummyInstrument, DummyChannel\n",
    "from measfunc.dmmqdac import BufferedAcquisitionController"
   ]
  },
  {
   "cell_type": "code",
   "execution_count": 3,
   "metadata": {},
   "outputs": [],
   "source": [
    "dac = DummyInstrument(name='dac')\n",
    "dac_ch1 = DummyChannel(name='dac_ch_1', parent=dac, channel=1)\n",
    "dac_ch2 = DummyChannel(name='dac_ch_2', parent=dac, channel=2)\n",
    "#dac.dac1.name = 'dac_ch1'\n",
    "#dac_ch2 = dac.dac2 \n",
    "#dac.dac2.name = 'dac_ch2'\n",
    "dmm = DummyInstrument(name='dmm')"
   ]
  },
  {
   "cell_type": "code",
   "execution_count": null,
   "metadata": {},
   "outputs": [],
   "source": [
    "buffered_acquisition_config = {\n",
    "    'fast_channel': dac_ch1,\n",
    "    'fast_vstart': 0.3, \n",
    "    'fast_vend': 0.8, \n",
    "    'fast_num_samples': 101, \n",
    "    'slow_channel': dac_ch2,\n",
    "    'slow_vstart': 0.4, \n",
    "    'slow_vend': 0.9, \n",
    "    'slow_num_samples': 51,\n",
    "    'fast_compensating_channel': None,\n",
    "    'fast_compensating_vstart': None,\n",
    "    'fast_compensating_vend': None,\n",
    "    'slow_compensating_channel': None,\n",
    "    'slow_compensating_vstart': None,\n",
    "    'slow_compensating_vend': None}\n",
    "\n",
    "buffered_acquisition_controller = BufferedAcquisitionController(\n",
    "    name='buffered_acquisition_controller', dmm=dmm, qdac=dac, **buffered_acquisition_config)"
   ]
  },
  {
   "cell_type": "code",
   "execution_count": null,
   "metadata": {},
   "outputs": [],
   "source": [
    "buffered_acquisition_controller.fast_channel_setpoints.num_samples.get_latest()"
   ]
  },
  {
   "cell_type": "code",
   "execution_count": null,
   "metadata": {},
   "outputs": [],
   "source": [
    "from qcodes.utils.validators import Numbers, Arrays"
   ]
  },
  {
   "cell_type": "code",
   "execution_count": null,
   "metadata": {},
   "outputs": [],
   "source": [
    "test = Arrays(shape=(101,51))"
   ]
  },
  {
   "cell_type": "code",
   "execution_count": 8,
   "metadata": {},
   "outputs": [],
   "source": [
    "dac.dac1.set(1)"
   ]
  },
  {
   "cell_type": "code",
   "execution_count": null,
   "metadata": {},
   "outputs": [],
   "source": [
    "buffered_acquisition_controller.buffered_2d_acquisition.get()"
   ]
  },
  {
   "cell_type": "code",
   "execution_count": 9,
   "metadata": {},
   "outputs": [
    {
     "data": {
      "text/plain": [
       "1"
      ]
     },
     "execution_count": 9,
     "metadata": {},
     "output_type": "execute_result"
    }
   ],
   "source": [
    "dac.dac1.get()"
   ]
  },
  {
   "cell_type": "code",
   "execution_count": 1,
   "metadata": {},
   "outputs": [
    {
     "name": "stdout",
     "output_type": "stream",
     "text": [
      "<class 'measfunc.compensated_parameter_instrument.CompensatedParameterInstrument'>\n"
     ]
    }
   ],
   "source": [
    "from qcodes.tests.instrument_mocks import DummyInstrument, DummyChannel\n",
    "from measfunc.compensated_parameter_instrument import CompensatedParameterInstrument\n",
    "\n",
    "\n",
    "dac = DummyInstrument(name='dac')\n",
    "compensated_parameter_instrument = CompensatedParameterInstrument(name= 'test_compensation',\n",
    "                                                                      prime_parameter=dac.dac1,\n",
    "                                                                      compensating_parameter=(dac.dac2,dac.dac3))\n",
    "print(type(compensated_parameter_instrument))\n"
   ]
  },
  {
   "cell_type": "code",
   "execution_count": 2,
   "metadata": {},
   "outputs": [
    {
     "data": {
      "text/plain": [
       "['ch1', 'ch2']"
      ]
     },
     "execution_count": 2,
     "metadata": {},
     "output_type": "execute_result"
    }
   ],
   "source": [
    "list(compensated_parameter_instrument.submodules.keys())"
   ]
  },
  {
   "cell_type": "code",
   "execution_count": 7,
   "metadata": {},
   "outputs": [],
   "source": [
    "bla = compensated_parameter_instrument.submodules['ch1'].compensating_parameter"
   ]
  },
  {
   "cell_type": "code",
   "execution_count": 3,
   "metadata": {},
   "outputs": [],
   "source": [
    "dac.dac2(0)"
   ]
  },
  {
   "cell_type": "code",
   "execution_count": 11,
   "metadata": {},
   "outputs": [],
   "source": [
    "bla(0)"
   ]
  },
  {
   "cell_type": "code",
   "execution_count": null,
   "metadata": {},
   "outputs": [],
   "source": []
  }
 ],
 "metadata": {
  "kernelspec": {
   "display_name": "Python 3",
   "language": "python",
   "name": "python3"
  },
  "language_info": {
   "codemirror_mode": {
    "name": "ipython",
    "version": 3
   },
   "file_extension": ".py",
   "mimetype": "text/x-python",
   "name": "python",
   "nbconvert_exporter": "python",
   "pygments_lexer": "ipython3",
   "version": "3.9.7"
  }
 },
 "nbformat": 4,
 "nbformat_minor": 4
}
