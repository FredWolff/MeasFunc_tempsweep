{
 "cells": [
  {
   "cell_type": "markdown",
   "metadata": {},
   "source": [
    "# Hello, world!\n",
    "\n",
    "This notebook shows you how get a friendly greeting from measfunc."
   ]
  },
  {
   "cell_type": "code",
   "execution_count": 1,
   "metadata": {},
   "outputs": [],
   "source": [
    "from measfunc.hello_world import hello_world, greeter\n",
    "from measfunc.dmmqdac import BufferedAcquisitionController"
   ]
  },
  {
   "cell_type": "code",
   "execution_count": 2,
   "metadata": {},
   "outputs": [
    {
     "name": "stdout",
     "output_type": "stream",
     "text": [
      "Hello, you!\n",
      "and\n",
      "Hello, world! from bobbob\n"
     ]
    }
   ],
   "source": [
    "name = \"you\"\n",
    "print(greeter(name))\n",
    "print(\"and\")\n",
    "hello_world()"
   ]
  },
  {
   "cell_type": "code",
   "execution_count": null,
   "metadata": {},
   "outputs": [],
   "source": [
    "config_dictionary = {'fast': qdac.ch01.v, 'slow': qdac.ch02.v}\n",
    "dmmqdac = DMMAcquisition('dmmqdac', dmm, qdac, **fastslow)\n",
    "dmmqdac.fast.V_start(0.2)\n",
    "do0d(dmmqdac.dmm2dbuff)"
   ]
  },
  {
   "cell_type": "markdown",
   "metadata": {},
   "source": [
    "# Usage example with dummy instruments"
   ]
  },
  {
   "cell_type": "code",
   "execution_count": 1,
   "metadata": {},
   "outputs": [],
   "source": [
    "from qcodes.tests.instrument_mocks import DummyInstrument, DummyChannel\n",
    "from measfunc.dmmqdac import BufferedAcquisitionController"
   ]
  },
  {
   "cell_type": "code",
   "execution_count": 2,
   "metadata": {},
   "outputs": [],
   "source": [
    "dac = DummyInstrument(name='dac')\n",
    "dac_ch1 = DummyChannel(name='dac_ch_1', parent=dac, channel=1)\n",
    "dac_ch2 = DummyChannel(name='dac_ch_2', parent=dac, channel=2)\n",
    "#dac.dac1.name = 'dac_ch1'\n",
    "#dac_ch2 = dac.dac2 \n",
    "#dac.dac2.name = 'dac_ch2'\n",
    "dmm = DummyInstrument(name='dmm')"
   ]
  },
  {
   "cell_type": "code",
   "execution_count": 3,
   "metadata": {},
   "outputs": [
    {
     "ename": "ValueError",
     "evalue": "A ParameterWithSetpoints must have an Arrays validator got <class 'NoneType'>",
     "output_type": "error",
     "traceback": [
      "\u001b[1;31m---------------------------------------------------------------------------\u001b[0m",
      "\u001b[1;31mValueError\u001b[0m                                Traceback (most recent call last)",
      "\u001b[1;32mc:\\Users\\T4ACQ\\repos\\MeasFunc\\docs\\example_notebooks\\hello_world.ipynb Cell 8'\u001b[0m in \u001b[0;36m<cell line: 17>\u001b[1;34m()\u001b[0m\n\u001b[0;32m      <a href='vscode-notebook-cell:/c%3A/Users/T4ACQ/repos/MeasFunc/docs/example_notebooks/hello_world.ipynb#ch0000009?line=0'>1</a>\u001b[0m buffered_acquisition_config \u001b[39m=\u001b[39m {\n\u001b[0;32m      <a href='vscode-notebook-cell:/c%3A/Users/T4ACQ/repos/MeasFunc/docs/example_notebooks/hello_world.ipynb#ch0000009?line=1'>2</a>\u001b[0m     \u001b[39m'\u001b[39m\u001b[39mfast_channel\u001b[39m\u001b[39m'\u001b[39m: dac_ch1,\n\u001b[0;32m      <a href='vscode-notebook-cell:/c%3A/Users/T4ACQ/repos/MeasFunc/docs/example_notebooks/hello_world.ipynb#ch0000009?line=2'>3</a>\u001b[0m     \u001b[39m'\u001b[39m\u001b[39mfast_vstart\u001b[39m\u001b[39m'\u001b[39m: \u001b[39m0.3\u001b[39m, \n\u001b[1;32m   (...)\u001b[0m\n\u001b[0;32m     <a href='vscode-notebook-cell:/c%3A/Users/T4ACQ/repos/MeasFunc/docs/example_notebooks/hello_world.ipynb#ch0000009?line=13'>14</a>\u001b[0m     \u001b[39m'\u001b[39m\u001b[39mslow_compensating_vstart\u001b[39m\u001b[39m'\u001b[39m: \u001b[39mNone\u001b[39;00m,\n\u001b[0;32m     <a href='vscode-notebook-cell:/c%3A/Users/T4ACQ/repos/MeasFunc/docs/example_notebooks/hello_world.ipynb#ch0000009?line=14'>15</a>\u001b[0m     \u001b[39m'\u001b[39m\u001b[39mslow_compensating_vend\u001b[39m\u001b[39m'\u001b[39m: \u001b[39mNone\u001b[39;00m}\n\u001b[1;32m---> <a href='vscode-notebook-cell:/c%3A/Users/T4ACQ/repos/MeasFunc/docs/example_notebooks/hello_world.ipynb#ch0000009?line=16'>17</a>\u001b[0m buffered_acquisition_controller \u001b[39m=\u001b[39m BufferedAcquisitionController(\n\u001b[0;32m     <a href='vscode-notebook-cell:/c%3A/Users/T4ACQ/repos/MeasFunc/docs/example_notebooks/hello_world.ipynb#ch0000009?line=17'>18</a>\u001b[0m     name\u001b[39m=\u001b[39;49m\u001b[39m'\u001b[39;49m\u001b[39mbuffered_acquisition_controller\u001b[39;49m\u001b[39m'\u001b[39;49m, dmm\u001b[39m=\u001b[39;49mdmm, qdac\u001b[39m=\u001b[39;49mdac, \u001b[39m*\u001b[39;49m\u001b[39m*\u001b[39;49mbuffered_acquisition_config)\n",
      "File \u001b[1;32m~\\miniconda3\\envs\\qcodes\\lib\\site-packages\\qcodes\\instrument\\base.py:517\u001b[0m, in \u001b[0;36mAbstractInstrumentMeta.__call__\u001b[1;34m(cls, *args, **kwargs)\u001b[0m\n\u001b[0;32m    <a href='file:///c%3A/Users/T4ACQ/miniconda3/envs/qcodes/lib/site-packages/qcodes/instrument/base.py?line=511'>512</a>\u001b[0m \u001b[39mdef\u001b[39;00m \u001b[39m__call__\u001b[39m(\u001b[39mcls\u001b[39m, \u001b[39m*\u001b[39margs: Any, \u001b[39m*\u001b[39m\u001b[39m*\u001b[39mkwargs: Any) \u001b[39m-\u001b[39m\u001b[39m>\u001b[39m Any:\n\u001b[0;32m    <a href='file:///c%3A/Users/T4ACQ/miniconda3/envs/qcodes/lib/site-packages/qcodes/instrument/base.py?line=512'>513</a>\u001b[0m     \u001b[39m\"\"\"\u001b[39;00m\n\u001b[0;32m    <a href='file:///c%3A/Users/T4ACQ/miniconda3/envs/qcodes/lib/site-packages/qcodes/instrument/base.py?line=513'>514</a>\u001b[0m \u001b[39m    Overloads `type.__call__` to add code that runs only if __init__ completes\u001b[39;00m\n\u001b[0;32m    <a href='file:///c%3A/Users/T4ACQ/miniconda3/envs/qcodes/lib/site-packages/qcodes/instrument/base.py?line=514'>515</a>\u001b[0m \u001b[39m    successfully.\u001b[39;00m\n\u001b[0;32m    <a href='file:///c%3A/Users/T4ACQ/miniconda3/envs/qcodes/lib/site-packages/qcodes/instrument/base.py?line=515'>516</a>\u001b[0m \u001b[39m    \"\"\"\u001b[39;00m\n\u001b[1;32m--> <a href='file:///c%3A/Users/T4ACQ/miniconda3/envs/qcodes/lib/site-packages/qcodes/instrument/base.py?line=516'>517</a>\u001b[0m     new_inst \u001b[39m=\u001b[39m \u001b[39msuper\u001b[39;49m()\u001b[39m.\u001b[39;49m\u001b[39m__call__\u001b[39;49m(\u001b[39m*\u001b[39;49margs, \u001b[39m*\u001b[39;49m\u001b[39m*\u001b[39;49mkwargs)\n\u001b[0;32m    <a href='file:///c%3A/Users/T4ACQ/miniconda3/envs/qcodes/lib/site-packages/qcodes/instrument/base.py?line=517'>518</a>\u001b[0m     is_abstract \u001b[39m=\u001b[39m new_inst\u001b[39m.\u001b[39m_is_abstract()\n\u001b[0;32m    <a href='file:///c%3A/Users/T4ACQ/miniconda3/envs/qcodes/lib/site-packages/qcodes/instrument/base.py?line=518'>519</a>\u001b[0m     \u001b[39mif\u001b[39;00m is_abstract:\n",
      "File \u001b[1;32mc:\\users\\t4acq\\repos\\measfunc\\measfunc\\dmmqdac.py:58\u001b[0m, in \u001b[0;36mBufferedAcquisitionController.__init__\u001b[1;34m(self, name, dmm, qdac, fast_channel, fast_vstart, fast_vend, fast_num_samples, slow_channel, slow_vstart, slow_vend, slow_num_samples, fast_compensating_channel, fast_compensating_vstart, fast_compensating_vend, slow_compensating_channel, slow_compensating_vstart, slow_compensating_vend, *args, **kwargs)\u001b[0m\n\u001b[0;32m     <a href='file:///c%3A/users/t4acq/repos/measfunc/measfunc/dmmqdac.py?line=54'>55</a>\u001b[0m     \u001b[39mself\u001b[39m\u001b[39m.\u001b[39mslow_indices\u001b[39m.\u001b[39mappend(\u001b[39mself\u001b[39m\u001b[39m.\u001b[39mget_qdac_channel_index(slow_compensating_channel))\n\u001b[0;32m     <a href='file:///c%3A/users/t4acq/repos/measfunc/measfunc/dmmqdac.py?line=55'>56</a>\u001b[0m     \u001b[39m# Also need to append slow_vstart, slow_stop? \u001b[39;00m\n\u001b[1;32m---> <a href='file:///c%3A/users/t4acq/repos/measfunc/measfunc/dmmqdac.py?line=57'>58</a>\u001b[0m \u001b[39mself\u001b[39;49m\u001b[39m.\u001b[39;49madd_parameter(\u001b[39m'\u001b[39;49m\u001b[39mbuffered_2d_acquisition\u001b[39;49m\u001b[39m'\u001b[39;49m,\n\u001b[0;32m     <a href='file:///c%3A/users/t4acq/repos/measfunc/measfunc/dmmqdac.py?line=58'>59</a>\u001b[0m                    parameter_class\u001b[39m=\u001b[39;49mBuffered2DAcquisition,\n\u001b[0;32m     <a href='file:///c%3A/users/t4acq/repos/measfunc/measfunc/dmmqdac.py?line=59'>60</a>\u001b[0m                    qdac\u001b[39m=\u001b[39;49mqdac,\n\u001b[0;32m     <a href='file:///c%3A/users/t4acq/repos/measfunc/measfunc/dmmqdac.py?line=60'>61</a>\u001b[0m                    dmm\u001b[39m=\u001b[39;49mdmm,\n\u001b[0;32m     <a href='file:///c%3A/users/t4acq/repos/measfunc/measfunc/dmmqdac.py?line=61'>62</a>\u001b[0m                    vals\u001b[39m=\u001b[39;49mArrays(shape\u001b[39m=\u001b[39;49m(\u001b[39mself\u001b[39;49m\u001b[39m.\u001b[39;49mfast_channel_setpoints\u001b[39m.\u001b[39;49mnum_samples\u001b[39m.\u001b[39;49mget_latest, \u001b[39m# should this be the fast_channel_setpoints? \u001b[39;49;00m\n\u001b[0;32m     <a href='file:///c%3A/users/t4acq/repos/measfunc/measfunc/dmmqdac.py?line=62'>63</a>\u001b[0m                                       \u001b[39mself\u001b[39;49m\u001b[39m.\u001b[39;49mslow_channel_setpoints\u001b[39m.\u001b[39;49mnum_samples\u001b[39m.\u001b[39;49mget_latest)),\n\u001b[0;32m     <a href='file:///c%3A/users/t4acq/repos/measfunc/measfunc/dmmqdac.py?line=63'>64</a>\u001b[0m                    setpoints\u001b[39m=\u001b[39;49m(\u001b[39mself\u001b[39;49m\u001b[39m.\u001b[39;49mfast_channel_setpoints\u001b[39m.\u001b[39;49mvoltage_setpoints, \u001b[39m# get latest? \u001b[39;49;00m\n\u001b[0;32m     <a href='file:///c%3A/users/t4acq/repos/measfunc/measfunc/dmmqdac.py?line=64'>65</a>\u001b[0m                               \u001b[39mself\u001b[39;49m\u001b[39m.\u001b[39;49mslow_channel_setpoints\u001b[39m.\u001b[39;49mvoltage_setpoints)\n\u001b[0;32m     <a href='file:///c%3A/users/t4acq/repos/measfunc/measfunc/dmmqdac.py?line=65'>66</a>\u001b[0m                    )\n\u001b[0;32m     <a href='file:///c%3A/users/t4acq/repos/measfunc/measfunc/dmmqdac.py?line=67'>68</a>\u001b[0m \u001b[39mself\u001b[39m\u001b[39m.\u001b[39madd_parameter(\u001b[39m'\u001b[39m\u001b[39msample_rate\u001b[39m\u001b[39m'\u001b[39m,\n\u001b[0;32m     <a href='file:///c%3A/users/t4acq/repos/measfunc/measfunc/dmmqdac.py?line=68'>69</a>\u001b[0m                    initial_value\u001b[39m=\u001b[39m\u001b[39m1\u001b[39m\u001b[39m/\u001b[39m\u001b[39m0.003\u001b[39m,\n\u001b[0;32m     <a href='file:///c%3A/users/t4acq/repos/measfunc/measfunc/dmmqdac.py?line=69'>70</a>\u001b[0m                    unit\u001b[39m=\u001b[39m\u001b[39m'\u001b[39m\u001b[39mHz\u001b[39m\u001b[39m'\u001b[39m,\n\u001b[1;32m   (...)\u001b[0m\n\u001b[0;32m     <a href='file:///c%3A/users/t4acq/repos/measfunc/measfunc/dmmqdac.py?line=72'>73</a>\u001b[0m                    get_cmd\u001b[39m=\u001b[39m\u001b[39mNone\u001b[39;00m,\n\u001b[0;32m     <a href='file:///c%3A/users/t4acq/repos/measfunc/measfunc/dmmqdac.py?line=73'>74</a>\u001b[0m                    set_cmd\u001b[39m=\u001b[39m\u001b[39mNone\u001b[39;00m)\n",
      "File \u001b[1;32m~\\miniconda3\\envs\\qcodes\\lib\\site-packages\\qcodes\\instrument\\base.py:127\u001b[0m, in \u001b[0;36mInstrumentBase.add_parameter\u001b[1;34m(self, name, parameter_class, **kwargs)\u001b[0m\n\u001b[0;32m    <a href='file:///c%3A/Users/T4ACQ/miniconda3/envs/qcodes/lib/site-packages/qcodes/instrument/base.py?line=123'>124</a>\u001b[0m     kwargs[\u001b[39m\"\u001b[39m\u001b[39mbind_to_instrument\u001b[39m\u001b[39m\"\u001b[39m] \u001b[39m=\u001b[39m \u001b[39mTrue\u001b[39;00m\n\u001b[0;32m    <a href='file:///c%3A/Users/T4ACQ/miniconda3/envs/qcodes/lib/site-packages/qcodes/instrument/base.py?line=125'>126</a>\u001b[0m \u001b[39mtry\u001b[39;00m:\n\u001b[1;32m--> <a href='file:///c%3A/Users/T4ACQ/miniconda3/envs/qcodes/lib/site-packages/qcodes/instrument/base.py?line=126'>127</a>\u001b[0m     param \u001b[39m=\u001b[39m parameter_class(name\u001b[39m=\u001b[39;49mname, instrument\u001b[39m=\u001b[39;49m\u001b[39mself\u001b[39;49m, \u001b[39m*\u001b[39;49m\u001b[39m*\u001b[39;49mkwargs)\n\u001b[0;32m    <a href='file:///c%3A/Users/T4ACQ/miniconda3/envs/qcodes/lib/site-packages/qcodes/instrument/base.py?line=127'>128</a>\u001b[0m \u001b[39mexcept\u001b[39;00m \u001b[39mTypeError\u001b[39;00m:\n\u001b[0;32m    <a href='file:///c%3A/Users/T4ACQ/miniconda3/envs/qcodes/lib/site-packages/qcodes/instrument/base.py?line=128'>129</a>\u001b[0m     kwargs\u001b[39m.\u001b[39mpop(\u001b[39m\"\u001b[39m\u001b[39mbind_to_instrument\u001b[39m\u001b[39m\"\u001b[39m)\n",
      "File \u001b[1;32mc:\\users\\t4acq\\repos\\measfunc\\measfunc\\dmmqdac.py:189\u001b[0m, in \u001b[0;36mBuffered2DAcquisition.__init__\u001b[1;34m(self, name, *args, **kwargs)\u001b[0m\n\u001b[0;32m    <a href='file:///c%3A/users/t4acq/repos/measfunc/measfunc/dmmqdac.py?line=187'>188</a>\u001b[0m \u001b[39mdef\u001b[39;00m \u001b[39m__init__\u001b[39m(\u001b[39mself\u001b[39m, name, \u001b[39m*\u001b[39margs, \u001b[39m*\u001b[39m\u001b[39m*\u001b[39mkwargs):\n\u001b[1;32m--> <a href='file:///c%3A/users/t4acq/repos/measfunc/measfunc/dmmqdac.py?line=188'>189</a>\u001b[0m     \u001b[39msuper\u001b[39;49m()\u001b[39m.\u001b[39;49m\u001b[39m__init__\u001b[39;49m(name\u001b[39m=\u001b[39;49mname)\n",
      "File \u001b[1;32m~\\miniconda3\\envs\\qcodes\\lib\\site-packages\\qcodes\\instrument\\parameter.py:1403\u001b[0m, in \u001b[0;36mParameterWithSetpoints.__init__\u001b[1;34m(self, name, vals, setpoints, snapshot_get, snapshot_value, **kwargs)\u001b[0m\n\u001b[0;32m   <a href='file:///c%3A/Users/T4ACQ/miniconda3/envs/qcodes/lib/site-packages/qcodes/instrument/parameter.py?line=1394'>1395</a>\u001b[0m \u001b[39mdef\u001b[39;00m \u001b[39m__init__\u001b[39m(\u001b[39mself\u001b[39m, name: \u001b[39mstr\u001b[39m, \u001b[39m*\u001b[39m,\n\u001b[0;32m   <a href='file:///c%3A/Users/T4ACQ/miniconda3/envs/qcodes/lib/site-packages/qcodes/instrument/parameter.py?line=1395'>1396</a>\u001b[0m              vals: Optional[Validator[Any]] \u001b[39m=\u001b[39m \u001b[39mNone\u001b[39;00m,\n\u001b[0;32m   <a href='file:///c%3A/Users/T4ACQ/miniconda3/envs/qcodes/lib/site-packages/qcodes/instrument/parameter.py?line=1396'>1397</a>\u001b[0m              setpoints: Optional[Sequence[_BaseParameter]] \u001b[39m=\u001b[39m \u001b[39mNone\u001b[39;00m,\n\u001b[0;32m   <a href='file:///c%3A/Users/T4ACQ/miniconda3/envs/qcodes/lib/site-packages/qcodes/instrument/parameter.py?line=1397'>1398</a>\u001b[0m              snapshot_get: \u001b[39mbool\u001b[39m \u001b[39m=\u001b[39m \u001b[39mFalse\u001b[39;00m,\n\u001b[0;32m   <a href='file:///c%3A/Users/T4ACQ/miniconda3/envs/qcodes/lib/site-packages/qcodes/instrument/parameter.py?line=1398'>1399</a>\u001b[0m              snapshot_value: \u001b[39mbool\u001b[39m \u001b[39m=\u001b[39m \u001b[39mFalse\u001b[39;00m,\n\u001b[0;32m   <a href='file:///c%3A/Users/T4ACQ/miniconda3/envs/qcodes/lib/site-packages/qcodes/instrument/parameter.py?line=1399'>1400</a>\u001b[0m              \u001b[39m*\u001b[39m\u001b[39m*\u001b[39mkwargs: Any) \u001b[39m-\u001b[39m\u001b[39m>\u001b[39m \u001b[39mNone\u001b[39;00m:\n\u001b[0;32m   <a href='file:///c%3A/Users/T4ACQ/miniconda3/envs/qcodes/lib/site-packages/qcodes/instrument/parameter.py?line=1401'>1402</a>\u001b[0m     \u001b[39mif\u001b[39;00m \u001b[39mnot\u001b[39;00m \u001b[39misinstance\u001b[39m(vals, Arrays):\n\u001b[1;32m-> <a href='file:///c%3A/Users/T4ACQ/miniconda3/envs/qcodes/lib/site-packages/qcodes/instrument/parameter.py?line=1402'>1403</a>\u001b[0m         \u001b[39mraise\u001b[39;00m \u001b[39mValueError\u001b[39;00m(\u001b[39mf\u001b[39m\u001b[39m\"\u001b[39m\u001b[39mA ParameterWithSetpoints must have an Arrays \u001b[39m\u001b[39m\"\u001b[39m\n\u001b[0;32m   <a href='file:///c%3A/Users/T4ACQ/miniconda3/envs/qcodes/lib/site-packages/qcodes/instrument/parameter.py?line=1403'>1404</a>\u001b[0m                          \u001b[39mf\u001b[39m\u001b[39m\"\u001b[39m\u001b[39mvalidator got \u001b[39m\u001b[39m{\u001b[39;00m\u001b[39mtype\u001b[39m(vals)\u001b[39m}\u001b[39;00m\u001b[39m\"\u001b[39m)\n\u001b[0;32m   <a href='file:///c%3A/Users/T4ACQ/miniconda3/envs/qcodes/lib/site-packages/qcodes/instrument/parameter.py?line=1404'>1405</a>\u001b[0m     \u001b[39mif\u001b[39;00m vals\u001b[39m.\u001b[39mshape_unevaluated \u001b[39mis\u001b[39;00m \u001b[39mNone\u001b[39;00m:\n\u001b[0;32m   <a href='file:///c%3A/Users/T4ACQ/miniconda3/envs/qcodes/lib/site-packages/qcodes/instrument/parameter.py?line=1405'>1406</a>\u001b[0m         \u001b[39mraise\u001b[39;00m \u001b[39mRuntimeError\u001b[39;00m(\u001b[39m\"\u001b[39m\u001b[39mA ParameterWithSetpoints must have a shape \u001b[39m\u001b[39m\"\u001b[39m\n\u001b[0;32m   <a href='file:///c%3A/Users/T4ACQ/miniconda3/envs/qcodes/lib/site-packages/qcodes/instrument/parameter.py?line=1406'>1407</a>\u001b[0m                            \u001b[39m\"\u001b[39m\u001b[39mdefined for its validator.\u001b[39m\u001b[39m\"\u001b[39m)\n",
      "\u001b[1;31mValueError\u001b[0m: A ParameterWithSetpoints must have an Arrays validator got <class 'NoneType'>"
     ]
    }
   ],
   "source": [
    "buffered_acquisition_config = {\n",
    "    'fast_channel': dac_ch1,\n",
    "    'fast_vstart': 0.3, \n",
    "    'fast_vend': 0.8, \n",
    "    'fast_num_samples': 101, \n",
    "    'slow_channel': dac_ch2,\n",
    "    'slow_vstart': 0.4, \n",
    "    'slow_vend': 0.9, \n",
    "    'slow_num_samples': 51,\n",
    "    'fast_compensating_channel': None,\n",
    "    'fast_compensating_vstart': None,\n",
    "    'fast_compensating_vend': None,\n",
    "    'slow_compensating_channel': None,\n",
    "    'slow_compensating_vstart': None,\n",
    "    'slow_compensating_vend': None}\n",
    "\n",
    "buffered_acquisition_controller = BufferedAcquisitionController(\n",
    "    name='buffered_acquisition_controller', dmm=dmm, qdac=dac, **buffered_acquisition_config)"
   ]
  },
  {
   "cell_type": "code",
   "execution_count": null,
   "metadata": {},
   "outputs": [],
   "source": []
  }
 ],
 "metadata": {
  "kernelspec": {
   "display_name": "Python 3",
   "language": "python",
   "name": "python3"
  },
  "language_info": {
   "codemirror_mode": {
    "name": "ipython",
    "version": 3
   },
   "file_extension": ".py",
   "mimetype": "text/x-python",
   "name": "python",
   "nbconvert_exporter": "python",
   "pygments_lexer": "ipython3",
   "version": "3.8.12"
  }
 },
 "nbformat": 4,
 "nbformat_minor": 4
}
